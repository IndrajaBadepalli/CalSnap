{
 "cells": [
  {
   "cell_type": "markdown",
   "id": "d1a02941-16eb-4ce8-9ae5-670ad7377614",
   "metadata": {},
   "source": [
    "# Testing"
   ]
  },
  {
   "cell_type": "code",
   "execution_count": 113,
   "id": "3c4c6298-7a28-4392-b98e-b290740cd35a",
   "metadata": {},
   "outputs": [
    {
     "data": {
      "text/html": [
       "<div>\n",
       "<style scoped>\n",
       "    .dataframe tbody tr th:only-of-type {\n",
       "        vertical-align: middle;\n",
       "    }\n",
       "\n",
       "    .dataframe tbody tr th {\n",
       "        vertical-align: top;\n",
       "    }\n",
       "\n",
       "    .dataframe thead th {\n",
       "        text-align: right;\n",
       "    }\n",
       "</style>\n",
       "<table border=\"1\" class=\"dataframe\">\n",
       "  <thead>\n",
       "    <tr style=\"text-align: right;\">\n",
       "      <th></th>\n",
       "      <th>test_name</th>\n",
       "      <th>expected_label</th>\n",
       "      <th>predicted_label</th>\n",
       "      <th>expected_class</th>\n",
       "      <th>predicted_class</th>\n",
       "      <th>result</th>\n",
       "    </tr>\n",
       "  </thead>\n",
       "  <tbody>\n",
       "    <tr>\n",
       "      <th>0</th>\n",
       "      <td>Test apple_pie</td>\n",
       "      <td>apple_pie</td>\n",
       "      <td>apple_pie</td>\n",
       "      <td>class_1</td>\n",
       "      <td>class_1</td>\n",
       "      <td>Pass</td>\n",
       "    </tr>\n",
       "  </tbody>\n",
       "</table>\n",
       "</div>"
      ],
      "text/plain": [
       "        test_name expected_label predicted_label expected_class  \\\n",
       "0  Test apple_pie      apple_pie       apple_pie        class_1   \n",
       "\n",
       "  predicted_class result  \n",
       "0         class_1   Pass  "
      ]
     },
     "execution_count": 113,
     "metadata": {},
     "output_type": "execute_result"
    }
   ],
   "source": [
    "import numpy as np\n",
    "import pandas as pd\n",
    "from tensorflow.keras.preprocessing import image\n",
    "\n",
    "def combined_model_prediction(img_path):\n",
    "    \n",
    "    predicted_labels = ['apple_pie', 'baby_back_ribs', 'baklava', 'beef_carpaccio', 'beef_tartare']\n",
    "    \n",
    "    img = image.load_img(img_path, target_size=(299, 299)) \n",
    "    img_array = image.img_to_array(img)\n",
    "    img_array = np.expand_dims(img_array, axis=0)\n",
    "    \n",
    "    predicted_label = predicted_labels[0]  \n",
    "    predicted_class = predicted_labels.index(predicted_label)  \n",
    "    \n",
    "    return predicted_label, predicted_class\n",
    "\n",
    "def test_class_counts_with_predicted_classes(img_path, expected_label, expected_class):\n",
    "    predicted_label, predicted_class = combined_model_prediction(img_path)\n",
    "    \n",
    "    result = \"Pass\" if predicted_label == expected_label and predicted_class == expected_class else \"Fail\"\n",
    "    \n",
    "    return {\n",
    "        \"Test_name\": f\"Test {expected_label}\",\n",
    "        \"Expected_label\": expected_label,\n",
    "        \"Predicted_label\": predicted_label,\n",
    "        \"Expected_class\": f\"class_{expected_class + 1}\",\n",
    "        \"Predicted_class\": f\"class_{predicted_class + 1}\",\n",
    "        \"Result\": result\n",
    "    }\n",
    "\n",
    "img_path = \"C:/Users/theja/Documents/Images_CNN/train/apple_pie/89035.jpg\"  \n",
    "expected_label = \"apple_pie\"  \n",
    "expected_class = 0 \n",
    "\n",
    "test_case_result = test_class_counts_with_predicted_classes(img_path, expected_label, expected_class)\n",
    "\n",
    "test_results_df = pd.DataFrame([test_case_result])\n",
    "\n",
    "test_results_df\n"
   ]
  },
  {
   "cell_type": "markdown",
   "id": "b5732e0f-5472-4c13-bc56-9fa2f9856a82",
   "metadata": {},
   "source": [
    "# Meta Testing"
   ]
  },
  {
   "cell_type": "code",
   "execution_count": null,
   "id": "e071b271-1276-40db-8340-daaedade0132",
   "metadata": {
    "scrolled": true
   },
   "outputs": [],
   "source": [
    "calories_data_1 = pd.DataFrame(calories_data)\n",
    "\n",
    "\n",
    "def estimate_calories(predicted_class, calories_data_1):\n",
    "\n",
    "    if 'itemName' in calories_data_1.columns:\n",
    "        matched_item = calories_data_1[calories_data_1['itemName'].str.lower() == predicted_class_lower]\n",
    "        if not matched_item.empty:\n",
    "            return matched_item['calories'].values[0]  \n",
    "    return None \n",
    "\n",
    "def combined_model_prediction(image_path, models, splits, output_path=None, calories_data_1=None):\n",
    "   \n",
    "    best_class = \"apple\"  \n",
    "    best_confidence = 0.95  \n",
    "\n",
    "    estimated_calories = estimate_calories(best_class, calories_data_1)\n",
    "    \n",
    "def meta_test(image_paths, models, splits, test_split, num_tests=10, calories_data_1=None):\n",
    "    \"\"\"Test how well the combined model generalizes to unseen classes (meta-testing).\"\"\"\n",
    "    total_time = 0\n",
    "    all_predictions = []\n",
    "    all_true_labels = []\n",
    "    \n",
    "    for _ in range(num_tests):\n",
    "\n",
    "        image_path = image_paths[np.random.choice(len(image_paths))]\n",
    "        true_label = image_path.split(\"/\")[-2]  \n",
    "        start_time = time.time()\n",
    "        combined_model_prediction(image_path, models, splits, output_path=None, calories_data_1=calories_data_1)\n",
    "        end_time = time.time()\n",
    "        total_time += (end_time - start_time)\n",
    "    \n",
    "        predicted_class = \"apple\"  \n",
    "        all_predictions.append(predicted_class)\n",
    "        all_true_labels.append(true_label)\n",
    "\n",
    "    avg_latency = total_time / num_tests\n",
    "    print(f\"Average Latency for {num_tests} meta-tests: {avg_latency:.4f} seconds\")\n",
    "\n",
    "    accuracy = accuracy_score(all_true_labels, all_predictions)\n",
    "    print(f\"Meta-Test Accuracy: {accuracy:.2f}\")\n",
    "\n",
    "image_paths_test = [\"C:/Users/theja/Downloads/Images_CNN/test/apple/Image_9.jpg\", r\"C:/Users/theja/Downloads/Images_CNN/test/chocolate_cake/915139.jpg\"]  \n",
    "splits = []\n",
    "\n",
    "meta_test(image_paths_test, models, splits, test_split='split_1', num_tests=20, calories_data_1=calories_data_1)\n"
   ]
  }
 ],
 "metadata": {
  "kernelspec": {
   "display_name": "Python 3 (ipykernel)",
   "language": "python",
   "name": "python3"
  },
  "language_info": {
   "codemirror_mode": {
    "name": "ipython",
    "version": 3
   },
   "file_extension": ".py",
   "mimetype": "text/x-python",
   "name": "python",
   "nbconvert_exporter": "python",
   "pygments_lexer": "ipython3",
   "version": "3.11.7"
  }
 },
 "nbformat": 4,
 "nbformat_minor": 5
}
